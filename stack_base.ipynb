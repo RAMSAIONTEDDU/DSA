{
 "cells": [
  {
   "cell_type": "code",
   "execution_count": null,
   "id": "679bf970",
   "metadata": {},
   "outputs": [],
   "source": [
    "class Stack:\n",
    "    def __init__(self,max_size):\n",
    "        self.__max_size=max_size\n",
    "        self.__elements=[None]*self.__max_size\n",
    "        self.__top=-1\n",
    "\n",
    "    def get_max_size(self):\n",
    "        return self.__max_size\n",
    "    \n",
    "    def is_full(self):\n",
    "        if(self.__top==self.__max_size-1):\n",
    "            return True\n",
    "        return False\n",
    "    \n",
    "    def is_empty(self):\n",
    "        if(self.__top==-1):\n",
    "            return True\n",
    "        return False\n",
    "    \n",
    "    def push(self,data):\n",
    "        if(self.is_full()):\n",
    "            print(\"The stack is full!!\")\n",
    "        else:\n",
    "            self.__top+=1\n",
    "            self.__elements[self.__top]=data\n",
    "    \n",
    "    def pop(self):\n",
    "        if(self.is_empty()):\n",
    "            print(\"The stack is empty!!\")\n",
    "        else:\n",
    "            data= self.__elements[self.__top]\n",
    "            self.__top-=1\n",
    "            return data\n",
    "    \n",
    "    def display(self):\n",
    "        if(self.is_empty()):\n",
    "            print(\"The stack is empty\")\n",
    "        else:\n",
    "            index=self.__top\n",
    "            while(index>=0):\n",
    "                print(self.__elements[index])\n",
    "                index-=1\n",
    "                                        \n",
    "    #You can use the below __str__() to print the elements of the DS object while debugging\n",
    "    def __str__(self):\n",
    "        msg=[]\n",
    "        index=self.__top\n",
    "        while(index>=0):\n",
    "            msg.append((str)(self.__elements[index]))\n",
    "            index-=1\n",
    "        msg=\" \".join(msg)\n",
    "        msg=\"Stack data(Top to Bottom): \"+msg\n",
    "        return msg"
   ]
  }
 ],
 "metadata": {
  "kernelspec": {
   "display_name": "Python 3 (ipykernel)",
   "language": "python",
   "name": "python3"
  },
  "language_info": {
   "codemirror_mode": {
    "name": "ipython",
    "version": 3
   },
   "file_extension": ".py",
   "mimetype": "text/x-python",
   "name": "python",
   "nbconvert_exporter": "python",
   "pygments_lexer": "ipython3",
   "version": "3.10.2"
  }
 },
 "nbformat": 4,
 "nbformat_minor": 5
}
